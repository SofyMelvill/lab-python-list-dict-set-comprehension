{
 "cells": [
  {
   "cell_type": "markdown",
   "id": "25d7736c-ba17-4aff-b6bb-66eba20fbf4e",
   "metadata": {},
   "source": [
    "# Lab | List, Dict and Set Comprehension"
   ]
  },
  {
   "cell_type": "markdown",
   "id": "7dd3cbde-675a-4b81-92c3-f728846dbe06",
   "metadata": {},
   "source": [
    "## Exercise: Managing Customer Orders Optimized with Comprehension"
   ]
  },
  {
   "cell_type": "markdown",
   "id": "5d500160-2fb7-4777-b5e4-09d45ebaf328",
   "metadata": {},
   "source": [
    "In the previous exercise, you developed a program to manage customer orders and inventory. Now, let's take it a step further and incorporate comprehension into your code.\n",
    "\n",
    "Follow the steps below to complete the exercise:\n",
    "\n",
    "1. Review your code from the previous exercise and identify areas where you can apply comprehension to simplify and streamline your code. \n",
    "\n",
    "    - *Hint: Apply it to initialize inventory, updating the inventory and printing the updated inventory.*\n",
    "    \n",
    "    - For example, in initializing the inventory, we could have:\n",
    "    \n",
    "        ```python\n",
    "        def initialize_inventory(products):\n",
    "            inventory = {product: int(input(f\"Enter the quantity of {product}s available: \")) for product in products}\n",
    "            return inventory\n",
    "\n",
    "        ```\n",
    "<br>\n",
    "    \n",
    "    \n",
    "2. Modify the function get_customer_orders so it prompts the user to enter the number of customer orders and gathers the product names using a loop and user input. Use comprehension.\n",
    "\n",
    "3. Add a new function to calculate the total price of the customer order. For each product in customer_orders, prompt the user to enter the price of that product. Use comprehension to calculate the total price. Note: assume that the user can only have 1 unit of each product.\n",
    "\n",
    "4. Modify the update_inventory function to remove the product from the inventory if its quantity becomes zero after fulfilling the customer orders. Use comprehension to filter out the products with a quantity of zero from the inventory.\n",
    "\n",
    "5. Print the total price of the customer order.\n",
    "\n",
    "Your code should produce output similar to the following:\n",
    "\n",
    "```python\n",
    "Enter the quantity of t-shirts available:  5\n",
    "Enter the quantity of mugs available:  4\n",
    "Enter the quantity of hats available:  3\n",
    "Enter the quantity of books available:  2\n",
    "Enter the quantity of keychains available:  1\n",
    "Enter the number of customer orders:  2\n",
    "Enter the name of a product that a customer wants to order:  hat\n",
    "Enter the name of a product that a customer wants to order:  keychain\n",
    "\n",
    "Order Statistics:\n",
    "Total Products Ordered: 2\n",
    "Percentage of Unique Products Ordered: 40.0\n",
    "\n",
    "Updated Inventory:\n",
    "t-shirt: 5\n",
    "mug: 4\n",
    "hat: 2\n",
    "book: 2\n",
    "Enter the price of keychain:  5\n",
    "Enter the price of hat:  10\n",
    "Total Price: 15.0\n",
    "\n",
    "```\n"
   ]
  },
  {
   "cell_type": "code",
   "execution_count": null,
   "id": "eb8e47e0",
   "metadata": {},
   "outputs": [
    {
     "name": "stdout",
     "output_type": "stream",
     "text": [
      "{'t-shirt': 5, 'mug': 4, 'hat': 2, 'book': 5, 'keychain': 3}\n"
     ]
    }
   ],
   "source": [
    "#Function to input quantities in each product\n",
    "\n",
    "def initialize_inventory(products):\n",
    "    inventory = {product: int(input(f\"Enter the quantity of {product}s available: \")) for product in products}\n",
    "    return inventory\n",
    "\n",
    "products = [\"t-shirt\", \"mug\", \"hat\", \"book\", \"keychain\"]\n",
    "inventory = initialize_inventory(products)\n",
    "print(inventory)"
   ]
  },
  {
   "cell_type": "code",
   "execution_count": null,
   "id": "1a2fbadb",
   "metadata": {},
   "outputs": [
    {
     "name": "stdout",
     "output_type": "stream",
     "text": [
      "{'mug', 'book', 'hat'}\n"
     ]
    }
   ],
   "source": [
    "# Function to fill an empty set with the customer orders\n",
    "\n",
    "def get_customer_order(products):\n",
    "    while True:\n",
    "        try:\n",
    "            customer_orders = int(input(\"Enter the number of customer orders: \"))\n",
    "            break\n",
    "        except ValueError:\n",
    "            print (\"Please enter a valid number\")\n",
    "\n",
    "    return {input(\"Enter the name of a product that a customer wants to order: \").strip().lower()\n",
    "            for n_ in range (customer_orders)}\n",
    "\n",
    "customer_orders = get_customer_order(products)\n",
    "print(customer_orders)"
   ]
  },
  {
   "cell_type": "code",
   "execution_count": null,
   "id": "098c79d5",
   "metadata": {},
   "outputs": [
    {
     "name": "stdout",
     "output_type": "stream",
     "text": [
      "{'t-shirt': 5, 'mug': 3, 'hat': 1, 'book': 4, 'keychain': 3}\n"
     ]
    }
   ],
   "source": [
    "# Function to update the inventory\n",
    "\n",
    "def updated_inventory(customer_orders, inventory):\n",
    "    for product in customer_orders:\n",
    "        if product in inventory and inventory[product] > 0:\n",
    "            inventory[product] -= 1\n",
    "    return {product: quantity for product, quantity in inventory.items() if quantity > 0}\n",
    "\n",
    "print(updated_inventory(customer_orders, inventory))"
   ]
  },
  {
   "cell_type": "code",
   "execution_count": null,
   "id": "c9bd4bee",
   "metadata": {},
   "outputs": [
    {
     "name": "stdout",
     "output_type": "stream",
     "text": [
      "(3, 60.0)\n"
     ]
    }
   ],
   "source": [
    "#Function to calculate statistics of the order\n",
    "\n",
    "def calculate_order_statistics(customer_orders, products):\n",
    "    total = len(customer_orders)\n",
    "    percent = (total/len(products)) * 100 if products else 0\n",
    "    return total, percent\n",
    "\n",
    "print(calculate_order_statistics(customer_orders, products))"
   ]
  },
  {
   "cell_type": "code",
   "execution_count": null,
   "id": "cf4377f7",
   "metadata": {},
   "outputs": [
    {
     "name": "stdout",
     "output_type": "stream",
     "text": [
      "The total price is: 19.0 €\n"
     ]
    }
   ],
   "source": [
    "#Function to guess the total price of the customer orders\n",
    "def calculate_total_price(customer_orders):\n",
    "    prices = {product: float(input(f\"Enter the price of {product}: \")) for product in customer_orders}\n",
    "    return sum(prices.values())\n",
    "\n",
    "total_price = calculate_total_price(customer_orders)\n",
    "print (f\"The total price is: {total_price} €\")"
   ]
  },
  {
   "cell_type": "code",
   "execution_count": null,
   "id": "fe91ef07",
   "metadata": {},
   "outputs": [
    {
     "name": "stdout",
     "output_type": "stream",
     "text": [
      "Order Statistics:\n",
      "Total products ordered: 3\n",
      "Percentage of Unique Products Ordered:  60.000000\n",
      "None\n"
     ]
    }
   ],
   "source": [
    "#Function to print the order statistics\n",
    "\n",
    "def print_order_statistics(order_statistics):\n",
    "    total, percent = order_statistics\n",
    "    print(\"Order Statistics:\")\n",
    "    print(f\"Total products ordered: {total}\")\n",
    "    print(f\"Percentage of Unique Products Ordered: {percent: 1f}\")\n",
    "\n",
    "order_statistics = calculate_order_statistics(customer_orders, products)\n",
    "print(print_order_statistics(order_statistics))"
   ]
  },
  {
   "cell_type": "code",
   "execution_count": null,
   "id": "f291a9dd",
   "metadata": {},
   "outputs": [
    {
     "name": "stdout",
     "output_type": "stream",
     "text": [
      "Updated inventory:\n",
      "t-shirt: 5\n",
      "mug: 3\n",
      "hat: 1\n",
      "book: 4\n",
      "keychain: 3\n",
      "None\n"
     ]
    }
   ],
   "source": [
    "#Function to update the inventory\n",
    "\n",
    "def print_updated_inventory(inventory):\n",
    "    print(\"Updated inventory:\")\n",
    "    for product, quantity in inventory.items():\n",
    "        print(f\"{product}: {quantity}\")\n",
    "\n",
    "print(print_updated_inventory(inventory))"
   ]
  },
  {
   "cell_type": "code",
   "execution_count": null,
   "id": "18cbcaad",
   "metadata": {},
   "outputs": [],
   "source": []
  }
 ],
 "metadata": {
  "kernelspec": {
   "display_name": "base",
   "language": "python",
   "name": "python3"
  },
  "language_info": {
   "codemirror_mode": {
    "name": "ipython",
    "version": 3
   },
   "file_extension": ".py",
   "mimetype": "text/x-python",
   "name": "python",
   "nbconvert_exporter": "python",
   "pygments_lexer": "ipython3",
   "version": "3.12.7"
  }
 },
 "nbformat": 4,
 "nbformat_minor": 5
}
